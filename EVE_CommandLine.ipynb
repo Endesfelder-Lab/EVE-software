{
 "cells": [
  {
   "cell_type": "markdown",
   "metadata": {},
   "source": [
    "# Running EVE from command lines\n",
    "EVE can be fully ran from command lines. Here are examples that fully provide an example, loading, finding, fitting, post-processing, and displaying a DNA-PAINT nanoruler\n",
    "\n",
    "Generally, finding/fitting routines exact methodology are stored in the RunInfo.txt after a GUI run, and thus can be extracted from there."
   ]
  },
  {
   "cell_type": "markdown",
   "metadata": {},
   "source": [
    "### Importing of code\n",
    "All routines are loaded from EVE, along with some third-party packages"
   ]
  },
  {
   "cell_type": "code",
   "execution_count": 1,
   "metadata": {},
   "outputs": [
    {
     "name": "stdout",
     "output_type": "stream",
     "text": [
      "Jupyter environment detected. Enabling Open3D WebVisualizer.\n",
      "[Open3D INFO] WebRTC GUI backend enabled.\n",
      "[Open3D INFO] WebRTCWindowSystem: HTTP handshake server disabled.\n"
     ]
    }
   ],
   "source": [
    "#Import all required scripts that are used by Eve\n",
    "from CandidateFitting import *\n",
    "from CandidateFinding import *\n",
    "from Visualisation import *\n",
    "from PostProcessing import *\n",
    "from CandidatePreview import *\n",
    "from Utils import *\n",
    "from Utils import utils, utilsHelper\n",
    "from EventDistributions import eventDistributions\n",
    "\n",
    "#Importing 3rd-party packages\n",
    "import appdirs\n",
    "import os\n",
    "import json\n",
    "\n",
    "#Determining eve_data location\n",
    "app_data_dir = appdirs.user_data_dir()\n",
    "eve_data_folder = os.path.join(app_data_dir, 'UniBonn', 'Eve')"
   ]
  },
  {
   "cell_type": "markdown",
   "metadata": {},
   "source": [
    "### Loading of global settings\n",
    "EVE global settings are required, and can be loaded from the last GUI run like this, and/or set as shown."
   ]
  },
  {
   "cell_type": "code",
   "execution_count": 2,
   "metadata": {},
   "outputs": [
    {
     "name": "stdout",
     "output_type": "stream",
     "text": [
      "{\n",
      "    \"MinFindingBoundingBoxXY\": {\n",
      "        \"value\": \"4\",\n",
      "        \"displayName\": \"Minimum size of a bounding box in px units\"\n",
      "    },\n",
      "    \"MinFindingBoundingBoxT\": {\n",
      "        \"value\": 10,\n",
      "        \"displayName\": \"Minimum size of a bounding box in ms units\"\n",
      "    },\n",
      "    \"MaxFindingBoundingBoxXY\": {\n",
      "        \"value\": 20,\n",
      "        \"displayName\": \"Maximum size of a bounding box in px units\"\n",
      "    },\n",
      "    \"MaxFindingBoundingBoxT\": {\n",
      "        \"value\": \"1000\",\n",
      "        \"displayName\": \"Maximum size of a bounding box in us units\"\n",
      "    },\n",
      "    \"XYTOutlierRemoval\": {\n",
      "        \"value\": 0,\n",
      "        \"displayName\": \"XYTOutlierRemoval\"\n",
      "    },\n",
      "    \"XYTOutlierRemoval_multiplier\": {\n",
      "        \"value\": 2.5,\n",
      "        \"displayName\": \"STD multiplier for XYTOutlierRemoval\"\n",
      "    },\n",
      "    \"PixelSize_nm\": {\n",
      "        \"value\": \"80\",\n",
      "        \"displayName\": \"Pixel size (nm)\"\n",
      "    },\n",
      "    \"MetaVisionPath\": {\n",
      "        \"value\": \"C:\\\\Program Files\\\\Prophesee\\\\lib\\\\python3\\\\site-packages\",\n",
      "        \"displayName\": \"MetaVision SDK Path\"\n",
      "    },\n",
      "    \"StoreConvertedRawData\": {\n",
      "        \"value\": false,\n",
      "        \"displayName\": \"Store converted raw data\"\n",
      "    },\n",
      "    \"StoreFileMetadata\": {\n",
      "        \"value\": 2,\n",
      "        \"displayName\": \"Store metadata after running\"\n",
      "    },\n",
      "    \"StoreFinalOutput\": {\n",
      "        \"value\": true,\n",
      "        \"displayName\": \"Store the final output\"\n",
      "    },\n",
      "    \"StoreFindingOutput\": {\n",
      "        \"value\": 2,\n",
      "        \"displayName\": \"Store intermediate output (after finding)\"\n",
      "    },\n",
      "    \"StoreFittingOutput\": {\n",
      "        \"value\": 2,\n",
      "        \"displayName\": \"Store intermediate output (after fitting)\"\n",
      "    },\n",
      "    \"HotPixelIndexes\": {\n",
      "        \"value\": \"(419,364),(434,380),(442,391),(462,388),(462,444),(504,413)\",\n",
      "        \"displayName\": \"Hot-pixel indeces\"\n",
      "    },\n",
      "    \"OutputDataFormat\": {\n",
      "        \"value\": \"thunderstorm\",\n",
      "        \"options\": [\n",
      "            \"thunderstorm\",\n",
      "            \"minimal\"\n",
      "        ],\n",
      "        \"displayName\": \"Output data format\"\n",
      "    },\n",
      "    \"JSONGUIstorePath\": {\n",
      "        \"value\": \"C:\\\\Users\\\\Koen Martens\\\\AppData\\\\Local\\\\UniBonn\\\\Eve\\\\storage.json\"\n",
      "    },\n",
      "    \"GlobalOptionsStorePath\": {\n",
      "        \"value\": \"C:\\\\Users\\\\Koen Martens\\\\AppData\\\\Local\\\\UniBonn\\\\Eve\\\\GlobSettingStorage.json\"\n",
      "    },\n",
      "    \"LoggingFilePath\": {\n",
      "        \"value\": \"C:\\\\Users\\\\Koen Martens\\\\AppData\\\\Local\\\\UniBonn\\\\Eve\\\\logging.log\"\n",
      "    },\n",
      "    \"Multithread\": {\n",
      "        \"value\": 2\n",
      "    },\n",
      "    \"UseCUDA\": {\n",
      "        \"value\": false\n",
      "    },\n",
      "    \"FindingBatching\": {\n",
      "        \"value\": 2\n",
      "    },\n",
      "    \"FindingBatchingTimeMs\": {\n",
      "        \"value\": \"60000\"\n",
      "    },\n",
      "    \"FindingBatchingTimeOverlapMs\": {\n",
      "        \"value\": 500\n",
      "    },\n",
      "    \"GUIWindowWize\": {\n",
      "        \"value\": [\n",
      "            930,\n",
      "            0,\n",
      "            976,\n",
      "            985\n",
      "        ]\n",
      "    }\n",
      "}\n"
     ]
    }
   ],
   "source": [
    "#Load the global settings that were last used\n",
    "with open(os.path.join(eve_data_folder,'GlobSettingStorage.json'), 'r') as file:\n",
    "    globalSettings = json.load(file)\n",
    "\n",
    "#Global settings can be displayed and/or changed\n",
    "globalSettings['MaxFindingBoundingBoxXY']['value'] = 20\n",
    "print(json.dumps(globalSettings, indent=4))"
   ]
  },
  {
   "cell_type": "markdown",
   "metadata": {},
   "source": [
    "### Loading of .hdf5 data\n",
    "HDF5 event data can be loaded as follows:"
   ]
  },
  {
   "cell_type": "code",
   "execution_count": 3,
   "metadata": {},
   "outputs": [
    {
     "name": "stdout",
     "output_type": "stream",
     "text": [
      "End of file reached while chunking HDF5\n",
      "Event loading complete! Loaded 3435056 events\n"
     ]
    }
   ],
   "source": [
    "#Loading the events from HDF between two timepoints\n",
    "fileLoc = 'Data\\DNAPAINT.hdf5'\n",
    "events = utils.timeSliceFromHDF(fileLoc,requested_start_time_ms = 0,requested_end_time_ms=1e10)[0]\n",
    "\n",
    "print(f\"Event loading complete! Loaded {len(events)} events\")\n"
   ]
  },
  {
   "cell_type": "markdown",
   "metadata": {},
   "source": [
    "### Finding routine\n",
    "We look at all available functions currently present in the CandidateFinding folders, and perform an EigenFeature routine on the events"
   ]
  },
  {
   "cell_type": "code",
   "execution_count": 4,
   "metadata": {},
   "outputs": [
    {
     "name": "stdout",
     "output_type": "stream",
     "text": [
      "All available Finding Routines:\n",
      "1: DBSCAN.DBSCAN_onlyHighDensity\n",
      "2: DBSCAN.DBSCAN_allEvents\n",
      "3: DBSCAN.DBSCAN_allEvents_remove_outliers\n",
      "4: EigenFeatureAnalysis.eigenFeature_analysis\n",
      "5: EigenFeatureAnalysis.eigen_feature_analysis_autoRadiusSelect\n",
      "6: EigenFeatureAnalysis.eigenFeature_analysis_and_bbox_finding\n",
      "7: FrameBasedFinding.FrameBased_finding\n",
      "8: LoadExistingFinding.LoadExistingFinding\n"
     ]
    }
   ],
   "source": [
    "#Obtain all available routines in CandidateFinding\n",
    "AllAvailableFunction = utils.functionNamesFromDir(\"CandidateFinding\")\n",
    "AllAvailableFunctionUserData = utils.functionNamesFromDir(eve_data_folder+\"/CandidateFinding\")\n",
    "\n",
    "#Give terminal information about the finding routines\n",
    "print(\"All available Finding Routines:\")\n",
    "for index, function in enumerate(AllAvailableFunction):\n",
    "    print(f\"{index+1}: {function}\")\n",
    "\n",
    "if len(AllAvailableFunctionUserData) > 0:\n",
    "    print(f\"\\nAdditional available Finding Routines from UserData folder ({eve_data_folder+'/CandidateFinding'}):\")\n",
    "    for index, function in enumerate(AllAvailableFunctionUserData):\n",
    "        print(f\"{index+1}: {function}\")"
   ]
  },
  {
   "cell_type": "code",
   "execution_count": 5,
   "metadata": {},
   "outputs": [
    {
     "name": "stdout",
     "output_type": "stream",
     "text": [
      "\u001b[1mEigen-feature analysis\u001b[0m\n",
      "\u001b[31mHelp info\u001b[0m \n",
      "\u001b[33mEigen-feature analysis. Performs a spectral clustering method on the data to separate SMLM signal from noise.\u001b[0m\n",
      "\u001b[31mRequired parameters\u001b[0m\n",
      "\u001b[33mLinearity cutoff [linearity_cutoff]: \n",
      "\t Linearity (0-1) cutoff \n",
      "\tDefault value: 0.7\n",
      "\u001b[0m\u001b[33mMaximum Eigenvalue cutoff [max_eigenval_cutoff]: \n",
      "\t Cutoff of maximum eigenvalue. Set to zero to auto-determine this! \n",
      "\tDefault value: 0.0\n",
      "\u001b[0m\u001b[33mNumber of neighbours [search_n_neighbours]: \n",
      "\t Number of (closest) neighbours for the covariance determination \n",
      "\tDefault value: 50\n",
      "\u001b[0m\u001b[33mRatio ms to px [ratio_ms_to_px]: \n",
      "\t Ratio of milliseconds to pixels. \n",
      "\tDefault value: 20.0\n",
      "\u001b[0m\u001b[33mDBSCAN epsilon [DBSCAN_eps]: \n",
      "\t Eps of DBSCAN. \n",
      "\tDefault value: 4\n",
      "\u001b[0m\u001b[33mDBSCAN nr. neighbours [DBSCAN_n_neighbours]: \n",
      "\t Minimum nr of points for DBSCAN cluster. \n",
      "\tDefault value: 20\n",
      "\u001b[0m\u001b[31mOptional parameters\u001b[0m\n",
      "\u001b[33mDebug Boolean [debug]: \n",
      "\t Get some debug info. \n",
      "\tDefault value: False\n",
      "\u001b[0m\n"
     ]
    }
   ],
   "source": [
    "#We can also request information about required and optional parameters from one of these functions:\n",
    "print(utils.printInformationFromFunction('EigenFeatureAnalysis.eigenFeature_analysis'))"
   ]
  },
  {
   "cell_type": "markdown",
   "metadata": {},
   "source": [
    "### Running a finding method\n",
    "Based on the information above, we can run an EigenFeature finding on this dataset. Please observe that all keyword-arguments are strings in the command-line."
   ]
  },
  {
   "cell_type": "code",
   "execution_count": null,
   "metadata": {},
   "outputs": [],
   "source": [
    "#Performing EigenFeature finding\n",
    "FindingResults = EigenFeatureAnalysis.eigenFeature_analysis(events,globalSettings,linearity_cutoff=\"0.7\",max_eigenval_cutoff=\"17\",search_n_neighbours=\"30\",ratio_ms_to_px=\"10\",DBSCAN_eps=\"3\",DBSCAN_n_neighbours=\"12\",debug=\"False\") #type:ignore\n",
    "\n",
    "print(f\"Finding complete! {len(FindingResults[0])} candidates are found. \\n \\n Provided metadata:\\n {FindingResults[1]}\")"
   ]
  },
  {
   "cell_type": "markdown",
   "metadata": {},
   "source": [
    "### Fitting routine\n",
    "Investigating and using the fitting routines is very similar to finding:"
   ]
  },
  {
   "cell_type": "code",
   "execution_count": 11,
   "metadata": {},
   "outputs": [
    {
     "name": "stdout",
     "output_type": "stream",
     "text": [
      "All available Fitting Routines:\n",
      "1: GaussianFitting.Gaussian2D\n",
      "2: GaussianFitting.LogGaussian2D\n",
      "3: GaussianFitting.Gaussian3D\n",
      "4: LoadExistingFitting.LoadExistingFitting\n",
      "5: PhasorFitting.PhasorFitting\n",
      "6: PhasorFitting.PhasorFitting_customTimeFit\n",
      "7: Radial_Symmetry.RadialSym2D\n",
      "8: Radial_Symmetry.RadialSym3D\n",
      "9: SimpleOperants.AverageXYpos\n",
      "10: UnivariateSplineFitting.Spline1D\n",
      "\n",
      "\n",
      "\u001b[1m2D LogGaussian\u001b[0m\n",
      "\u001b[31mHelp info\u001b[0m \n",
      "\u001b[33mMakes a 2D log-gaussian fit (via least squares) to determine the localization parameters.\u001b[0m\n",
      "\u001b[31mRequired parameters\u001b[0m\n",
      "\u001b[33mexpected width [expected_width]: \n",
      "\t Expected width of log-Gaussian fit (in nm) \n",
      "\tDefault value: 150.0\n",
      "\u001b[0m\u001b[33mfitting tolerance [fitting_tolerance]: \n",
      "\t Discard localizations with uncertainties larger than this value times the pixel size.  \n",
      "\tDefault value: 1.0\n",
      "\u001b[0m\n"
     ]
    }
   ],
   "source": [
    "#Obtain all available routines in CandidateFitting\n",
    "AllAvailableFunction = utils.functionNamesFromDir(\"CandidateFitting\")\n",
    "AllAvailableFunctionUserData = utils.functionNamesFromDir(eve_data_folder+\"/CandidateFitting\")\n",
    "\n",
    "#Give terminal information about the fitting routines\n",
    "print(\"All available Fitting Routines:\")\n",
    "for index, function in enumerate(AllAvailableFunction):\n",
    "    print(f\"{index+1}: {function}\")\n",
    "\n",
    "if len(AllAvailableFunctionUserData) > 0:\n",
    "    print(f\"\\nAdditional available Fitting Routines from UserData folder ({eve_data_folder+'/CandidateFitting'}):\")\n",
    "    for index, function in enumerate(AllAvailableFunctionUserData):\n",
    "        print(f\"{index+1}: {function}\")\n",
    "#We can also request information about required and optional parameters from one of these functions:\n",
    "print('\\n')\n",
    "print(utils.printInformationFromFunction('GaussianFitting.LogGaussian2D'))"
   ]
  },
  {
   "cell_type": "code",
   "execution_count": null,
   "metadata": {},
   "outputs": [],
   "source": [
    "#Performing LogGaussian fitting\n",
    "FittingResults = GaussianFitting.LogGaussian2D(FindingResults[0],globalSettings,expected_width=\"150.0\",fitting_tolerance=\"1.0\",dist_kwarg=\"Hist2d_xy\",time_kwarg=\"LognormCDFFirstEvents_weighted\") #type:ignore\n",
    "\n",
    "print(f\"Fitting complete! {len(FittingResults[0])} localizations are found. \\n \\nProvided metadata: \\n{FittingResults[1]}\")"
   ]
  },
  {
   "cell_type": "code",
   "execution_count": 13,
   "metadata": {},
   "outputs": [
    {
     "name": "stdout",
     "output_type": "stream",
     "text": [
      "All available PostProcessing Routines:\n",
      "1: AveragePSF.AveragePSF\n",
      "2: DriftCorr_DME.Load_storedData\n",
      "3: DriftCorr_DME.DriftCorr_entropyMin\n",
      "4: DriftCorr_DME.DriftCorr_entropyMin_3D\n",
      "5: DriftCorr_DME.DriftCorr_RCC\n",
      "6: Filter.Regular_filter\n",
      "7: PolarityMatching.PolarityMatching\n",
      "8: PolarityMatching.PolarityMatching_NeNA\n",
      "9: PolarityMatching.PolarityMatching_NeNASpatial\n",
      "10: PolarityMatching.PolarityMatching_time\n",
      "11: ResolutionDetermination.FRC\n",
      "12: Filter2.Regular_filter2\n",
      "\n",
      "Additional available PostProcessing Routines from UserData folder (C:\\Users\\Koen Martens\\AppData\\Local\\UniBonn\\Eve/PostProcessing):\n",
      "1: Filter2.Regular_filter2\n",
      "2: Filter2.Regular_filter2\n",
      "\n",
      "\n",
      "\u001b[1mDrift correction by entropy minimization [2D]\u001b[0m\n",
      "\u001b[31mHelp info\u001b[0m \n",
      "\u001b[33mDrift correction from Cnossen et al..\u001b[0m\n",
      "\u001b[31mRequired parameters\u001b[0m\n",
      "\u001b[33mFrame time used in DME [frame_time_for_dme]: \n",
      "\t Frame-time used for drift-correction (in ms) \n",
      "\tDefault value: 100.0\n",
      "\u001b[0m\u001b[33mFrames per bin [frames_per_bin]: \n",
      "\t Number of frames in every bin for dme drift correction  \n",
      "\tDefault value: 50\n",
      "\u001b[0m\u001b[33mVisualisation [visualisation]: \n",
      "\t Visualisation of the drift traces. \n",
      "\tDefault value: True\n",
      "\u001b[0m\u001b[33mStorage location [storeLoc]: \n",
      "\t File location (*.npz file) \n",
      "\tDefault value: \n",
      "\u001b[0m\n"
     ]
    }
   ],
   "source": [
    "#Obtain all available routines in PostProcessing\n",
    "AllAvailableFunction = utils.functionNamesFromDir(\"PostProcessing\")\n",
    "AllAvailableFunctionUserData = utils.functionNamesFromDir(eve_data_folder+\"/PostProcessing\")\n",
    "\n",
    "#Give terminal information about the postprocessing routines\n",
    "print(\"All available PostProcessing Routines:\")\n",
    "for index, function in enumerate(AllAvailableFunction):\n",
    "    print(f\"{index+1}: {function}\")\n",
    "\n",
    "if len(AllAvailableFunctionUserData) > 0:\n",
    "    print(f\"\\nAdditional available PostProcessing Routines from UserData folder ({eve_data_folder+'/PostProcessing'}):\")\n",
    "    for index, function in enumerate(AllAvailableFunctionUserData):\n",
    "        print(f\"{index+1}: {function}\")\n",
    "\n",
    "#We can also request information about one of these functions:\n",
    "print('\\n')\n",
    "print(utils.printInformationFromFunction('DriftCorr_DME.DriftCorr_entropyMin'))"
   ]
  },
  {
   "cell_type": "code",
   "execution_count": null,
   "metadata": {},
   "outputs": [],
   "source": [
    "#We next apply this drift correction to our fitting results\n",
    "driftCorrData = DriftCorr_DME.DriftCorr_entropyMin(FittingResults[0],FindingResults[0],globalSettings,frame_time_for_dme=\"100\",frames_per_bin=\"50\",visualisation=\"True\",storeLoc='') #type:ignore\n",
    "\n",
    "#Terminal information about this post-processing\n",
    "print(f\"Drift correction complete! {len(driftCorrData[0])} localizations are found. \\n \\nProvided metadata: \\n{driftCorrData[1]}\")"
   ]
  },
  {
   "cell_type": "markdown",
   "metadata": {},
   "source": [
    "### Visualisation\n",
    "Similar to above, visualisation can be easily performed like this:"
   ]
  },
  {
   "cell_type": "code",
   "execution_count": 15,
   "metadata": {},
   "outputs": [
    {
     "name": "stdout",
     "output_type": "stream",
     "text": [
      "All available Visualisation Routines:\n",
      "1: Gaussian_display.GaussianKernel_fixedSigma\n",
      "2: Gaussian_display.GaussianKernel_locPrec\n",
      "3: Histogram_Convolution.Histogram_convolution\n",
      "4: TestVisualisation2.FunctionOne2\n",
      "\n",
      "Additional available Visualisation Routines from UserData folder (C:\\Users\\Koen Martens\\AppData\\Local\\UniBonn\\Eve/Visualisation):\n",
      "1: TestVisualisation2.FunctionOne2\n",
      "2: TestVisualisation2.FunctionOne2\n",
      "\n",
      "\n",
      "\u001b[1mGaussian-blurred with locPrecision sigma\u001b[0m\n",
      "\u001b[31mHelp info\u001b[0m \n",
      "\u001b[33mDraws Gaussians with sigma based on loc. prec (del_x, del_y)\u001b[0m\n",
      "\u001b[31mRequired parameters\u001b[0m\n",
      "\u001b[33mPixel size (nm) [px_size]: \n",
      "\t Visualisation px size \n",
      "\tDefault value: 10\n",
      "\u001b[0m\n"
     ]
    }
   ],
   "source": [
    "#Obtain all available routines in Visualisation\n",
    "AllAvailableFunction = utils.functionNamesFromDir(\"Visualisation\")\n",
    "AllAvailableFunctionUserData = utils.functionNamesFromDir(eve_data_folder+\"/Visualisation\")\n",
    "\n",
    "#Give terminal information about the visualisation routines\n",
    "print(\"All available Visualisation Routines:\")\n",
    "for index, function in enumerate(AllAvailableFunction):\n",
    "    print(f\"{index+1}: {function}\")\n",
    "\n",
    "if len(AllAvailableFunctionUserData) > 0:\n",
    "    print(f\"\\nAdditional available Visualisation Routines from UserData folder ({eve_data_folder+'/Visualisation'}):\")\n",
    "    for index, function in enumerate(AllAvailableFunctionUserData):\n",
    "        print(f\"{index+1}: {function}\")\n",
    "\n",
    "#We can also request information about one of these functions:\n",
    "print('\\n')\n",
    "print(utils.printInformationFromFunction('Gaussian_display.GaussianKernel_locPrec'))"
   ]
  },
  {
   "cell_type": "code",
   "execution_count": null,
   "metadata": {},
   "outputs": [],
   "source": [
    "#We create the image based on this Gaussian-blurred visualisation\n",
    "image = Gaussian_display.GaussianKernel_locPrec(driftCorrData[0],globalSettings,px_size=\"20\") #type:ignore\n",
    "\n",
    "print(f\"Visualisation complete! \\n \\nProvided metadata: \\n{image[1]}\")\n",
    "\n",
    "#And we visualise it\n",
    "import matplotlib.pyplot as plt\n",
    "plt.figure(figsize=(10,10))\n",
    "plt.imshow(image[0])"
   ]
  },
  {
   "cell_type": "markdown",
   "metadata": {},
   "source": []
  }
 ],
 "metadata": {
  "kernelspec": {
   "display_name": "Python 3",
   "language": "python",
   "name": "python3"
  },
  "language_info": {
   "codemirror_mode": {
    "name": "ipython",
    "version": 3
   },
   "file_extension": ".py",
   "mimetype": "text/x-python",
   "name": "python",
   "nbconvert_exporter": "python",
   "pygments_lexer": "ipython3",
   "version": "3.9.18"
  }
 },
 "nbformat": 4,
 "nbformat_minor": 2
}
